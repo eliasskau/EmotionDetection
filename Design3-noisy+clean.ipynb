{
 "cells": [
  {
   "cell_type": "code",
   "execution_count": 44,
   "id": "1182386a",
   "metadata": {},
   "outputs": [],
   "source": [
    "import pandas as pd\n",
    "import numpy as np\n",
    "import torch\n",
    "from torch import nn\n",
    "from torch.utils.data import DataLoader, TensorDataset\n",
    "from sklearn.preprocessing import LabelEncoder, StandardScaler\n",
    "from sklearn.model_selection import train_test_split\n",
    "import matplotlib.pyplot as plt\n"
   ]
  },
  {
   "cell_type": "code",
   "execution_count": 45,
   "id": "f78e8282",
   "metadata": {},
   "outputs": [],
   "source": [
    "# Load all data\n",
    "folder = \"feature-importance-analysis\"\n",
    "\n",
    "# Load clean\n",
    "df_all = pd.read_csv(f\"{folder}/ravdess_audio_features_all.csv\")\n",
    "noise_levels = [0.005, 0.01, 0.02, 0.05, 0.1]\n",
    "\n",
    "for nl in noise_levels:\n",
    "    df_noise = pd.read_csv(f\"{folder}/ravdess_features_noisy_{nl}.csv\")\n",
    "    df_all = pd.concat([df_all, df_noise], ignore_index=True)\n",
    "\n",
    "features = df_all.columns[:-1]\n",
    "X = df_all[features]  # no .values\n",
    "y = df_all[\"Emotion\"].values\n",
    "\n",
    "# Encode labels\n",
    "label_encoder = LabelEncoder()\n",
    "y_encoded = label_encoder.fit_transform(y)\n",
    "\n",
    "# Standardize features\n",
    "scaler = StandardScaler()\n",
    "X_scaled = scaler.fit_transform(X)\n",
    "import joblib\n",
    "joblib.dump(scaler, 'Models/feature_scaler.pkl')\n",
    "\n",
    "\n",
    "# Train-test split\n",
    "X_train, X_test, y_train, y_test = train_test_split(X_scaled, y_encoded, test_size=0.2, stratify=y_encoded, random_state=42)\n",
    "\n",
    "# Convert to PyTorch tensors\n",
    "X_train_tensor = torch.tensor(X_train, dtype=torch.float32)\n",
    "y_train_tensor = torch.tensor(y_train, dtype=torch.long)\n",
    "X_test_tensor = torch.tensor(X_test, dtype=torch.float32)\n",
    "y_test_tensor = torch.tensor(y_test, dtype=torch.long)\n",
    "\n",
    "train_dataset = TensorDataset(X_train_tensor, y_train_tensor)\n",
    "test_dataset = TensorDataset(X_test_tensor, y_test_tensor)\n",
    "train_loader = DataLoader(train_dataset, batch_size=32, shuffle=True)\n"
   ]
  },
  {
   "cell_type": "code",
   "execution_count": null,
   "id": "8b26edcb",
   "metadata": {},
   "outputs": [],
   "source": [
    "class EmotionNet3(nn.Module):\n",
    "    def __init__(self, input_dim, num_classes):\n",
    "        super(EmotionNet3, self).__init__()\n",
    "        self.net = nn.Sequential(\n",
    "            nn.Linear(input_dim, 256),           \n",
    "            nn.BatchNorm1d(256),\n",
    "            nn.ReLU(),\n",
    "            nn.Dropout(0.3),\n",
    "\n",
    "            nn.Linear(256, 128),\n",
    "            nn.BatchNorm1d(128),\n",
    "            nn.ReLU(),\n",
    "            nn.Dropout(0.2),\n",
    "\n",
    "            nn.Linear(128, 64),\n",
    "            nn.BatchNorm1d(64),\n",
    "            nn.ReLU(),\n",
    "            nn.Dropout(0.2),\n",
    "\n",
    "            nn.Linear(64, num_classes)\n",
    "        )\n",
    "\n",
    "    def forward(self, x):\n",
    "        return self.net(x)\n",
    "\n",
    "device = torch.device(\"cuda\" if torch.cuda.is_available() else \"cpu\")\n",
    "model = EmotionNet3(X.shape[1], len(label_encoder.classes_)).to(device)\n"
   ]
  },
  {
   "cell_type": "code",
   "execution_count": 47,
   "id": "1cc9bf54",
   "metadata": {},
   "outputs": [
    {
     "name": "stdout",
     "output_type": "stream",
     "text": [
      "Epoch 01 | Loss: 1.8927 | Val Acc: 0.3472\n",
      "Epoch 02 | Loss: 1.7489 | Val Acc: 0.3929\n",
      "Epoch 03 | Loss: 1.6903 | Val Acc: 0.3877\n",
      "Epoch 04 | Loss: 1.6505 | Val Acc: 0.4039\n",
      "Epoch 05 | Loss: 1.6306 | Val Acc: 0.4144\n",
      "Epoch 06 | Loss: 1.6016 | Val Acc: 0.4167\n",
      "Epoch 07 | Loss: 1.5754 | Val Acc: 0.4398\n",
      "Epoch 08 | Loss: 1.5570 | Val Acc: 0.4537\n",
      "Epoch 09 | Loss: 1.5502 | Val Acc: 0.4514\n",
      "Epoch 10 | Loss: 1.5236 | Val Acc: 0.4491\n",
      "Epoch 11 | Loss: 1.5134 | Val Acc: 0.4618\n",
      "Epoch 12 | Loss: 1.4986 | Val Acc: 0.4520\n",
      "Epoch 13 | Loss: 1.4880 | Val Acc: 0.4682\n",
      "Epoch 14 | Loss: 1.4625 | Val Acc: 0.4664\n",
      "Epoch 15 | Loss: 1.4529 | Val Acc: 0.4653\n",
      "Epoch 16 | Loss: 1.4480 | Val Acc: 0.4688\n",
      "Epoch 17 | Loss: 1.4566 | Val Acc: 0.4757\n",
      "Epoch 18 | Loss: 1.4169 | Val Acc: 0.4884\n",
      "Epoch 19 | Loss: 1.4182 | Val Acc: 0.4797\n",
      "Epoch 20 | Loss: 1.4209 | Val Acc: 0.4670\n",
      "Epoch 21 | Loss: 1.3895 | Val Acc: 0.4751\n",
      "Epoch 22 | Loss: 1.3904 | Val Acc: 0.4844\n",
      "Epoch 23 | Loss: 1.3838 | Val Acc: 0.4838\n",
      "Epoch 24 | Loss: 1.3631 | Val Acc: 0.4919\n",
      "Epoch 25 | Loss: 1.3721 | Val Acc: 0.5006\n",
      "Epoch 26 | Loss: 1.3613 | Val Acc: 0.4919\n",
      "Epoch 27 | Loss: 1.3508 | Val Acc: 0.4890\n",
      "Epoch 28 | Loss: 1.3626 | Val Acc: 0.4942\n",
      "Epoch 29 | Loss: 1.3359 | Val Acc: 0.4850\n",
      "Epoch 30 | Loss: 1.3162 | Val Acc: 0.5029\n",
      "Epoch 31 | Loss: 1.3153 | Val Acc: 0.4983\n",
      "Epoch 32 | Loss: 1.3210 | Val Acc: 0.5023\n",
      "Epoch 33 | Loss: 1.3109 | Val Acc: 0.5006\n",
      "Epoch 34 | Loss: 1.3125 | Val Acc: 0.5023\n",
      "Epoch 35 | Loss: 1.3059 | Val Acc: 0.5110\n",
      "Epoch 36 | Loss: 1.2723 | Val Acc: 0.5150\n",
      "Epoch 37 | Loss: 1.2946 | Val Acc: 0.4873\n",
      "Epoch 38 | Loss: 1.2838 | Val Acc: 0.5035\n",
      "Epoch 39 | Loss: 1.2860 | Val Acc: 0.5081\n",
      "Epoch 40 | Loss: 1.2764 | Val Acc: 0.5064\n",
      "Epoch 41 | Loss: 1.2689 | Val Acc: 0.5127\n",
      "Epoch 42 | Loss: 1.2626 | Val Acc: 0.5122\n",
      "Epoch 43 | Loss: 1.2511 | Val Acc: 0.5168\n",
      "Epoch 44 | Loss: 1.2731 | Val Acc: 0.5284\n",
      "Epoch 45 | Loss: 1.2594 | Val Acc: 0.5260\n",
      "Epoch 46 | Loss: 1.2356 | Val Acc: 0.5150\n",
      "Epoch 47 | Loss: 1.2569 | Val Acc: 0.5087\n",
      "Epoch 48 | Loss: 1.2347 | Val Acc: 0.5035\n",
      "Epoch 49 | Loss: 1.2293 | Val Acc: 0.5058\n",
      "Epoch 50 | Loss: 1.2314 | Val Acc: 0.5174\n"
     ]
    }
   ],
   "source": [
    "val_dataset = TensorDataset(X_test_tensor, y_test_tensor)\n",
    "val_loader = DataLoader(val_dataset, batch_size=32, shuffle=False)\n",
    "\n",
    "criterion = nn.CrossEntropyLoss()\n",
    "optimizer = torch.optim.Adam(model.parameters(), lr=0.001)\n",
    "epochs = 50\n",
    "\n",
    "for epoch in range(epochs):\n",
    "    model.train()\n",
    "    total_loss = 0\n",
    "    for xb, yb in train_loader:\n",
    "        xb, yb = xb.to(device), yb.to(device)\n",
    "        optimizer.zero_grad()\n",
    "        preds = model(xb)\n",
    "        loss = criterion(preds, yb)\n",
    "        loss.backward()\n",
    "        optimizer.step()\n",
    "        total_loss += loss.item()\n",
    "\n",
    "    # Evaluation on validation\n",
    "    model.eval()\n",
    "    correct, total = 0, 0\n",
    "    with torch.no_grad():\n",
    "        for xb, yb in val_loader:\n",
    "            xb, yb = xb.to(device), yb.to(device)\n",
    "            preds = model(xb)\n",
    "            predicted = preds.argmax(dim=1)\n",
    "            correct += (predicted == yb).sum().item()\n",
    "            total += yb.size(0)\n",
    "    \n",
    "    val_acc = correct / total\n",
    "    avg_loss = total_loss / len(train_loader)\n",
    "\n",
    "    print(f\"Epoch {epoch+1:02d} | Loss: {avg_loss:.4f} | Val Acc: {val_acc:.4f}\")\n",
    "\n"
   ]
  },
  {
   "cell_type": "code",
   "execution_count": 48,
   "id": "43fa00ca",
   "metadata": {},
   "outputs": [],
   "source": [
    "def evaluate_model(X_test, y_test):\n",
    "    model.eval()\n",
    "    with torch.no_grad():\n",
    "        X_test_tensor = torch.tensor(X_test, dtype=torch.float32).to(device)\n",
    "        y_test_tensor = torch.tensor(y_test, dtype=torch.long).to(device)\n",
    "        preds = model(X_test_tensor)\n",
    "        predicted = preds.argmax(dim=1)\n",
    "        accuracy = (predicted == y_test_tensor).float().mean().item()\n",
    "    return accuracy\n"
   ]
  },
  {
   "cell_type": "code",
   "execution_count": 49,
   "id": "3a9a4d3b",
   "metadata": {},
   "outputs": [],
   "source": [
    "accuracies_nn = []\n",
    "\n",
    "# Evaluate on clean\n",
    "# Clean test set\n",
    "df_clean = pd.read_csv(f\"{folder}/ravdess_audio_features_all.csv\")\n",
    "X_clean = scaler.transform(df_clean[features])\n",
    "y_clean = label_encoder.transform(df_clean[\"Emotion\"])\n",
    "_, X_test_clean, _, y_test_clean = train_test_split(X_clean, y_clean, test_size=0.2, stratify=y_clean, random_state=42)\n",
    "acc_clean = evaluate_model(X_test_clean, y_test_clean)\n",
    "accuracies_nn.append(acc_clean)\n",
    "\n",
    "# Evaluate on noisy levels\n",
    "for nl in noise_levels:\n",
    "    # Noisy test sets\n",
    "    df_noise = pd.read_csv(f\"{folder}/ravdess_features_noisy_{nl}.csv\")\n",
    "    X_noise = scaler.transform(df_noise[features])\n",
    "    y_noise = label_encoder.transform(df_noise[\"Emotion\"])\n",
    "    _, X_test_noise, _, y_test_noise = train_test_split(X_noise, y_noise, test_size=0.2, stratify=y_noise, random_state=42)\n",
    "    acc = evaluate_model(X_test_noise, y_test_noise)\n",
    "    accuracies_nn.append(acc)\n"
   ]
  },
  {
   "cell_type": "code",
   "execution_count": 50,
   "id": "baedfbfc",
   "metadata": {},
   "outputs": [
    {
     "data": {
      "image/png": "[encoded data removed]",
      "text/plain": [
       "<Figure size 800x500 with 1 Axes>"
      ]
     },
     "metadata": {},
     "output_type": "display_data"
    }
   ],
   "source": [
    "noise_levels_full = [0] + noise_levels\n",
    "\n",
    "plt.figure(figsize=(8, 5))\n",
    "plt.plot(noise_levels_full, accuracies_nn, marker='o', color='purple', label='Neural Network (PyTorch)')\n",
    "plt.title(\"PyTorch NN Accuracy vs. Noise Level\", fontsize=14)\n",
    "plt.xlabel(\"Noise Level (0 = Clean)\", fontsize=12)\n",
    "plt.ylabel(\"Accuracy\", fontsize=12)\n",
    "plt.ylim(0, 1)\n",
    "plt.xticks(noise_levels_full, [f\"{n:.3f}\" for n in noise_levels_full])\n",
    "plt.grid(True, linestyle='--', alpha=0.5)\n",
    "plt.legend()\n",
    "plt.tight_layout()\n",
    "plt.show()\n"
   ]
  },
  {
   "cell_type": "markdown",
   "id": "d3d2dcee",
   "metadata": {},
   "source": [
    "### Testing on custom data"
   ]
  },
  {
   "cell_type": "code",
   "execution_count": 51,
   "id": "6f630022",
   "metadata": {},
   "outputs": [
    {
     "name": "stdout",
     "output_type": "stream",
     "text": [
      "Converted: Dog anger.m4a → converted_wavs/Dog anger.wav\n",
      "Converted: Kids drama sad.m4a → converted_wavs/Kids drama sad.wav\n"
     ]
    },
    {
     "name": "stderr",
     "output_type": "stream",
     "text": [
      "ffmpeg version 6.1.1 Copyright (c) 2000-2023 the FFmpeg developers\n",
      "  built with clang version 16.0.6\n",
      "  configuration: --prefix=/opt/anaconda3 --cc=arm64-apple-darwin20.0.0-clang --cxx=arm64-apple-darwin20.0.0-clang++ --nm=arm64-apple-darwin20.0.0-nm --ar=arm64-apple-darwin20.0.0-ar --disable-doc --disable-openssl --enable-demuxer=dash --enable-hardcoded-tables --enable-libfreetype --enable-libharfbuzz --enable-libfontconfig --enable-libopenh264 --enable-libdav1d --enable-cross-compile --arch=arm64 --target-os=darwin --cross-prefix=arm64-apple-darwin20.0.0- --host-cc=/Users/runner/miniforge3/conda-bld/ffmpeg_1705437067053/_build_env/bin/x86_64-apple-darwin13.4.0-clang --enable-neon --enable-gnutls --enable-libmp3lame --enable-libvpx --enable-libass --enable-pthreads --enable-libopenvino --enable-gpl --enable-libx264 --enable-libx265 --enable-libaom --enable-libsvtav1 --enable-libxml2 --enable-pic --enable-shared --disable-static --enable-version3 --enable-zlib --enable-libopus --pkg-config=/Users/runner/miniforge3/conda-bld/ffmpeg_1705437067053/_build_env/bin/pkg-config\n",
      "  libavutil      58. 29.100 / 58. 29.100\n",
      "  libavcodec     60. 31.102 / 60. 31.102\n",
      "  libavformat    60. 16.100 / 60. 16.100\n",
      "  libavdevice    60.  3.100 / 60.  3.100\n",
      "  libavfilter     9. 12.100 /  9. 12.100\n",
      "  libswscale      7.  5.100 /  7.  5.100\n",
      "  libswresample   4. 12.100 /  4. 12.100\n",
      "  libpostproc    57.  3.100 / 57.  3.100\n",
      "Input #0, mov,mp4,m4a,3gp,3g2,mj2, from 'Custom_audio/Dog anger.m4a':\n",
      "  Metadata:\n",
      "    major_brand     : M4A \n",
      "    minor_version   : 0\n",
      "    compatible_brands: M4A isommp42\n",
      "    creation_time   : 2025-05-25T18:21:06.000000Z\n",
      "    voice-memo-uuid : 5C018F18-85DE-4481-A99B-27AC6C4F078D\n",
      "    encoder         : com.apple.VoiceMemos (iPhone Version 18.4.1 (Build 22E252))\n",
      "  Duration: 00:00:03.54, start: 0.000000, bitrate: 72 kb/s\n",
      "  Stream #0:0[0x1](und): Audio: aac (LC) (mp4a / 0x6134706D), 48000 Hz, mono, fltp, 64 kb/s (default)\n",
      "    Metadata:\n",
      "      creation_time   : 2025-05-25T18:21:06.000000Z\n",
      "      handler_name    : Core Media Audio\n",
      "      vendor_id       : [0][0][0][0]\n",
      "Stream mapping:\n",
      "  Stream #0:0 -> #0:0 (aac (native) -> pcm_s16le (native))\n",
      "Press [q] to stop, [?] for help\n",
      "Output #0, wav, to 'converted_wavs/Dog anger.wav':\n",
      "  Metadata:\n",
      "    major_brand     : M4A \n",
      "    minor_version   : 0\n",
      "    compatible_brands: M4A isommp42\n",
      "    voice-memo-uuid : 5C018F18-85DE-4481-A99B-27AC6C4F078D\n",
      "    ISFT            : Lavf60.16.100\n",
      "  Stream #0:0(und): Audio: pcm_s16le ([1][0][0][0] / 0x0001), 48000 Hz, mono, s16, 768 kb/s (default)\n",
      "    Metadata:\n",
      "      creation_time   : 2025-05-25T18:21:06.000000Z\n",
      "      handler_name    : Core Media Audio\n",
      "      vendor_id       : [0][0][0][0]\n",
      "      encoder         : Lavc60.31.102 pcm_s16le\n",
      "[out#0/wav @ 0x125f343b0] video:0kB audio:332kB subtitle:0kB other streams:0kB global headers:0kB muxing overhead: 0.022943%\n",
      "size=     332kB time=00:00:03.52 bitrate= 772.8kbits/s speed= 831x    \n",
      "ffmpeg version 6.1.1 Copyright (c) 2000-2023 the FFmpeg developers\n",
      "  built with clang version 16.0.6\n",
      "  configuration: --prefix=/opt/anaconda3 --cc=arm64-apple-darwin20.0.0-clang --cxx=arm64-apple-darwin20.0.0-clang++ --nm=arm64-apple-darwin20.0.0-nm --ar=arm64-apple-darwin20.0.0-ar --disable-doc --disable-openssl --enable-demuxer=dash --enable-hardcoded-tables --enable-libfreetype --enable-libharfbuzz --enable-libfontconfig --enable-libopenh264 --enable-libdav1d --enable-cross-compile --arch=arm64 --target-os=darwin --cross-prefix=arm64-apple-darwin20.0.0- --host-cc=/Users/runner/miniforge3/conda-bld/ffmpeg_1705437067053/_build_env/bin/x86_64-apple-darwin13.4.0-clang --enable-neon --enable-gnutls --enable-libmp3lame --enable-libvpx --enable-libass --enable-pthreads --enable-libopenvino --enable-gpl --enable-libx264 --enable-libx265 --enable-libaom --enable-libsvtav1 --enable-libxml2 --enable-pic --enable-shared --disable-static --enable-version3 --enable-zlib --enable-libopus --pkg-config=/Users/runner/miniforge3/conda-bld/ffmpeg_1705437067053/_build_env/bin/pkg-config\n",
      "  libavutil      58. 29.100 / 58. 29.100\n",
      "  libavcodec     60. 31.102 / 60. 31.102\n",
      "  libavformat    60. 16.100 / 60. 16.100\n",
      "  libavdevice    60.  3.100 / 60.  3.100\n",
      "  libavfilter     9. 12.100 /  9. 12.100\n",
      "  libswscale      7.  5.100 /  7.  5.100\n",
      "  libswresample   4. 12.100 /  4. 12.100\n",
      "  libpostproc    57.  3.100 / 57.  3.100\n",
      "Input #0, mov,mp4,m4a,3gp,3g2,mj2, from 'Custom_audio/Kids drama sad.m4a':\n",
      "  Metadata:\n",
      "    major_brand     : M4A \n",
      "    minor_version   : 0\n",
      "    compatible_brands: M4A isommp42\n",
      "    creation_time   : 2025-05-25T18:20:25.000000Z\n",
      "    voice-memo-uuid : E612F777-65CF-4711-BE36-04741D77DE4E\n",
      "    encoder         : com.apple.VoiceMemos (iPhone Version 18.4.1 (Build 22E252))\n",
      "  Duration: 00:00:03.78, start: 0.000000, bitrate: 74 kb/s\n",
      "  Stream #0:0[0x1](und): Audio: aac (LC) (mp4a / 0x6134706D), 48000 Hz, mono, fltp, 66 kb/s (default)\n",
      "    Metadata:\n",
      "      creation_time   : 2025-05-25T18:20:25.000000Z\n",
      "      handler_name    : Core Media Audio\n",
      "      vendor_id       : [0][0][0][0]\n",
      "Stream mapping:\n",
      "  Stream #0:0 -> #0:0 (aac (native) -> pcm_s16le (native))\n",
      "Press [q] to stop, [?] for help\n",
      "Output #0, wav, to 'converted_wavs/Kids drama sad.wav':\n",
      "  Metadata:\n",
      "    major_brand     : M4A \n",
      "    minor_version   : 0\n",
      "    compatible_brands: M4A isommp42\n",
      "    voice-memo-uuid : E612F777-65CF-4711-BE36-04741D77DE4E\n",
      "    ISFT            : Lavf60.16.100\n",
      "  Stream #0:0(und): Audio: pcm_s16le ([1][0][0][0] / 0x0001), 48000 Hz, mono, s16, 768 kb/s (default)\n",
      "    Metadata:\n",
      "      creation_time   : 2025-05-25T18:20:25.000000Z\n",
      "      handler_name    : Core Media Audio\n",
      "      vendor_id       : [0][0][0][0]\n",
      "      encoder         : Lavc60.31.102 pcm_s16le\n",
      "[out#0/wav @ 0x142f0d610] video:0kB audio:354kB subtitle:0kB other streams:0kB global headers:0kB muxing overhead: 0.021517%\n",
      "size=     354kB time=00:00:03.75 bitrate= 772.5kbits/s speed=1e+03x    \n"
     ]
    }
   ],
   "source": [
    "import os\n",
    "import subprocess\n",
    "\n",
    "input_folder = \"Custom_audio\"\n",
    "output_folder = \"converted_wavs\"\n",
    "os.makedirs(output_folder, exist_ok=True)\n",
    "\n",
    "for file in os.listdir(input_folder):\n",
    "    if file.endswith(\".m4a\"):\n",
    "        input_path = os.path.join(input_folder, file)\n",
    "        output_path = os.path.join(output_folder, file.replace(\".m4a\", \".wav\"))\n",
    "        subprocess.run([\"ffmpeg\", \"-y\", \"-i\", input_path, output_path])\n",
    "        print(f\"Converted: {file} → {output_path}\")\n"
   ]
  },
  {
   "cell_type": "code",
   "execution_count": 52,
   "id": "b231183d",
   "metadata": {},
   "outputs": [
    {
     "name": "stdout",
     "output_type": "stream",
     "text": [
      "Model exported to 'Models/emotion_model3.pt'\n"
     ]
    }
   ],
   "source": [
    "torch.save(model.state_dict(), \"Models/emotion_model3.pt\")\n",
    "print(\"Model exported to 'Models/emotion_model3.pt'\")\n",
    "\n"
   ]
  },
  {
   "cell_type": "code",
   "execution_count": 53,
   "id": "148ee291",
   "metadata": {},
   "outputs": [
    {
     "name": "stdout",
     "output_type": "stream",
     "text": [
      "38\n",
      "8\n"
     ]
    }
   ],
   "source": [
    "print(X.shape[1])\n",
    "print(len(label_encoder.classes_))"
   ]
  },
  {
   "cell_type": "code",
   "execution_count": 54,
   "id": "276ee27f",
   "metadata": {},
   "outputs": [
    {
     "name": "stdout",
     "output_type": "stream",
     "text": [
      "['Angry' 'Calm' 'Disgust' 'Fearful' 'Happy' 'Neutral' 'Sad' 'Surprised']\n"
     ]
    }
   ],
   "source": [
    "print(label_encoder.classes_)\n"
   ]
  }
 ],
 "metadata": {
  "kernelspec": {
   "display_name": "base",
   "language": "python",
   "name": "python3"
  },
  "language_info": {
   "codemirror_mode": {
    "name": "ipython",
    "version": 3
   },
   "file_extension": ".py",
   "mimetype": "text/x-python",
   "name": "python",
   "nbconvert_exporter": "python",
   "pygments_lexer": "ipython3",
   "version": "3.11.8"
  }
 },
 "nbformat": 4,
 "nbformat_minor": 5
}
